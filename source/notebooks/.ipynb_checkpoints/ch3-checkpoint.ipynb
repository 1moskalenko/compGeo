{
 "cells": [
  {
   "cell_type": "code",
   "execution_count": 9,
   "metadata": {},
   "outputs": [
    {
     "data": {
      "text/plain": [
       "[<matplotlib.lines.Line2D at 0x11699e990>]"
      ]
     },
     "execution_count": 9,
     "metadata": {},
     "output_type": "execute_result"
    },
    {
     "data": {
      "image/png": "[encoded data removed]",
      "text/plain": [
       "<Figure size 432x288 with 1 Axes>"
      ]
     },
     "metadata": {
      "needs_background": "light"
     },
     "output_type": "display_data"
    }
   ],
   "source": [
    "# Import libraries\n",
    "import numpy as np\n",
    "import matplotlib.pyplot as plt\n",
    "\n",
    "# Import functions Pole and StCoordLine\n",
    "import sys, os\n",
    "sys.path.append(os.path.abspath('../functions'))\n",
    "from Pole import Pole as Pole\n",
    "from StCoordLine import StCoordLine as StCoordLine\n",
    "\n",
    "# Plot the following four lines (trend and plunge)\n",
    "# on an equal angle or equal area stereonet\n",
    "lines = np.array([[30, 30],[120, 45],[210, 65],[280, 15]])\n",
    "pi = np.pi\n",
    "linesr = lines * pi/180 # lines in radians\n",
    "\n",
    "# Plot the primitive of the stereonet\n",
    "r = 1; # unit radius\n",
    "TH = np.arange(0,360,1)*pi/180\n",
    "x = r * np.cos(TH)\n",
    "y = r * np.sin(TH)\n",
    "plt.plot(x,y,'k')\n",
    "# Plot center of circle\n",
    "plt.plot(0,0,'k+')\n",
    "# Make axes equal and remove them\n",
    "plt.axis('scaled')\n",
    "plt.axis('off')\n",
    "\n",
    "# Find the coordinates of the lines in the\n",
    "# equal angle or equal area stereonet\n",
    "nrow, ncol = lines.shape\n",
    "eqAngle = np.zeros((nrow, ncol))\n",
    "eqArea = np.zeros((nrow, ncol))\n",
    "\n",
    "for i in range(nrow):\n",
    "    # Equal angle coordinates\n",
    "    eqAngle[i,0], eqAngle[i,1] = StCoordLine(linesr[i,0],linesr[i,1],0) \n",
    "    # Equal area coordinates\n",
    "    eqArea[i,0], eqArea[i,1] = StCoordLine(linesr[i,0],linesr[i,1],1)\n",
    "    \n",
    "# Plot the lines\n",
    "# Equal angle as black dots\n",
    "plt.plot(eqAngle[:,0],eqAngle[:,1],'ko')\n",
    "# Equal area as red dots\n",
    "plt.plot(eqArea[:,0],eqArea[:,1],'ro')"
   ]
  },
  {
   "cell_type": "code",
   "execution_count": 10,
   "metadata": {},
   "outputs": [
    {
     "data": {
      "text/plain": [
       "[<matplotlib.lines.Line2D at 0x116a57610>]"
      ]
     },
     "execution_count": 10,
     "metadata": {},
     "output_type": "execute_result"
    },
    {
     "data": {
      "image/png": "[encoded data removed]",
      "text/plain": [
       "<Figure size 432x288 with 1 Axes>"
      ]
     },
     "metadata": {
      "needs_background": "light"
     },
     "output_type": "display_data"
    }
   ],
   "source": [
    "# Plot the following four planes (strike and dip, RHR)\n",
    "# as poles on an equal angle or equal area stereonet\n",
    "planes = np.array([[0, 30], [90, 50], [180, 15], [270, 65]])\n",
    "planesr = planes * pi/180 # planes in radians\n",
    "\n",
    "# Plot the primitive of the stereonet\n",
    "plt.plot(x,y,'k')\n",
    "# Plot center of circle\n",
    "plt.plot(0,0,'k+')\n",
    "# Make axes equal and remove them\n",
    "plt.axis('scaled')\n",
    "plt.axis('off')\n",
    "\n",
    "# Find the coordinates of the poles to the planes in the\n",
    "# equal angle or equal area stereonet\n",
    "for i in range(nrow):\n",
    "    # Compute pole of plane\n",
    "    trend, plunge = Pole(planesr[i,0],planesr[i,1],1)\n",
    "    # Equal angle coordinates\n",
    "    eqAngle[i,0], eqAngle[i,1] = StCoordLine(trend,plunge,0) \n",
    "    # Equal area coordinates\n",
    "    eqArea[i,0], eqArea[i,1] = StCoordLine(trend,plunge,1)\n",
    "\n",
    "# Plot the poles\n",
    "# Equal angle as black asterisks\n",
    "plt.plot(eqAngle[:,0],eqAngle[:,1],'k*')\n",
    "# Equal area as red asterisks\n",
    "plt.plot(eqArea[:,0],eqArea[:,1],'r*')"
   ]
  }
 ],
 "metadata": {
  "kernelspec": {
   "display_name": "Python 3",
   "language": "python",
   "name": "python3"
  },
  "language_info": {
   "codemirror_mode": {
    "name": "ipython",
    "version": 3
   },
   "file_extension": ".py",
   "mimetype": "text/x-python",
   "name": "python",
   "nbconvert_exporter": "python",
   "pygments_lexer": "ipython3",
   "version": "3.7.6"
  }
 },
 "nbformat": 4,
 "nbformat_minor": 2
}
