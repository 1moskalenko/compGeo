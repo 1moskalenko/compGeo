{
 "cells": [
  {
   "cell_type": "markdown",
   "metadata": {},
   "source": [
    "## Equal angle stereonet\n",
    "\n",
    "from SphToCart.py\n",
    "\n",
    "$\n",
    "cn = \\cos(trd)\\cos(plg)\\\\\n",
    "ce = \\sin(trd)\\cos(plg)\\\\\n",
    "cd = \\sin(plg)  \n",
    "$\n",
    "\n",
    "We can express $sin(trd)$ and $cos(trd)$ as well as $sin(plg)$ from direct cosines\n",
    "\n",
    "$\n",
    "\\cos(trd) = \\frac{cn}{\\cos(plg)}\\\\\n",
    "\\sin(trd) = \\frac{ce}{\\cos(plg)}\\\\\n",
    "\\sin(plg) = cd\n",
    "$\n",
    "\n",
    "We are going to substitune these equations into StCoordLine function\n",
    "\n",
    "$\n",
    "xp = \\tan(\\frac{\\pi}{4} - \\frac{plg}{2})\\sin(trd)\\\\\n",
    "yp = \\tan(\\frac{\\pi}{4} - \\frac{plg}{2})\\cos(trd)\n",
    "$\n",
    "\n",
    "Lets simplify it first\n",
    "\n",
    "$\n",
    "\\tan(\\frac{\\pi}{4} - \\frac{plg}{2}) = \\frac{\\tan(\\frac{\\pi}{4}) - \\tan(\\frac{plg}{2})}{1+\\tan(\\frac{\\pi}{4})\\tan(\\frac{plg}{2})}=\\frac{1-\\tan(\\frac{plg}{2})}{1+\\tan(\\frac{plg}{2})}\n",
    "$\n",
    "\n",
    "We are going to use [tan of half angle formula](https://en.wikipedia.org/wiki/Tangent_half-angle_formula#Algebraic_proofs)\n",
    "\n",
    "$\n",
    "\\tan(\\frac{plg}{2}) = \\frac{\\sin(plg)}{1+\\cos(plg)}\n",
    "$\n",
    "\n",
    "$\n",
    "\\tan(\\frac{\\pi}{4} - \\frac{plg}{2})=\\frac{1-\\frac{\\sin(plg)}{1+\\cos(plg)}}{1+\\frac{\\sin(plg)}{1+\\cos(plg)}}=\\frac{1+\\cos(plg)-\\sin(plg)}{1+\\cos(plg)+\\sin(plg)}\n",
    "$\n",
    "\n",
    "Now we are ready to express equal angle stereonet coordinates:\n",
    "\n",
    "$\n",
    "xp = \\frac{1+\\cos(plg)-\\sin(plg)}{1+\\cos(plg)+\\sin(plg)}\\frac{ce}{\\cos(plg)}\\\\\n",
    "yp = \\frac{1+\\cos(plg)-\\sin(plg)}{1+\\cos(plg)+\\sin(plg)}\\frac{cn}{\\cos(plg)}\n",
    "$\n",
    "\n",
    "Lets simplify a common term\n",
    "\n",
    "$\n",
    "\\frac{1+\\cos(plg)-\\sin(plg)}{1+\\cos(plg)+\\sin(plg)}\\frac{1}{\\cos(plg)} = \\frac{1+\\cos(plg)-\\sin(plg)}{\\cos(plg)+\\cos^2(plg)+\\sin(plg)\\cos(plg)}=\\frac{1+\\cos(plg)-\\sin(plg)}{\\cos(plg)(1+\\sin(plg))+1-\\sin^2(plg)}=\\frac{1+\\cos(plg)-\\sin(plg)}{\\cos(plg)(1+\\sin(plg))+(1-\\sin(plg))(1+\\sin(plg))}=\\frac{1+\\cos(plg)-\\sin(plg)}{(1+\\sin(plg))(1+\\cos(plg)-\\sin(plg))}=\\frac{1}{1+\\sin(plg)}\n",
    "$\n",
    "\n",
    "Then finaly we get\n",
    "\n",
    "$\n",
    "xp = \\frac{ce}{1+\\sin(plg)}=\\frac{ce}{1+cd}\\\\\n",
    "yp = \\frac{cn}{1+\\sin(plg)}=\\frac{cn}{1+cd}\n",
    "$"
   ]
  },
  {
   "cell_type": "code",
   "execution_count": null,
   "metadata": {},
   "outputs": [],
   "source": []
  }
 ],
 "metadata": {
  "kernelspec": {
   "display_name": "Python 3",
   "language": "python",
   "name": "python3"
  },
  "language_info": {
   "codemirror_mode": {
    "name": "ipython",
    "version": 3
   },
   "file_extension": ".py",
   "mimetype": "text/x-python",
   "name": "python",
   "nbconvert_exporter": "python",
   "pygments_lexer": "ipython3",
   "version": "3.6.5"
  }
 },
 "nbformat": 4,
 "nbformat_minor": 2
}
