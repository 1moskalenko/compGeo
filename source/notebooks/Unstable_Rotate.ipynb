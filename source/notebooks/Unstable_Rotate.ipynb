{
 "cells": [
  {
   "cell_type": "code",
   "execution_count": 1,
   "metadata": {},
   "outputs": [],
   "source": [
    "import sys, os\n",
    "sys.path.append(os.path.abspath('../functions'))\n",
    "\n",
    "import numpy as np\n",
    "from Pole import Pole\n",
    "from Rotate import Rotate\n",
    "from SphToCart import SphToCart"
   ]
  },
  {
   "cell_type": "code",
   "execution_count": 2,
   "metadata": {},
   "outputs": [
    {
     "name": "stdout",
     "output_type": "stream",
     "text": [
      "(3.12413936106985, 1.0686516840418685e-18)\n",
      "(6.283185307179586, 1.4997597826618576e-32)\n",
      "[-1.00000000e+00  1.22464680e-16 -1.49975978e-32]\n"
     ]
    }
   ],
   "source": [
    "strike, dip = 0, 0\n",
    "axis_trd, axis_plg = Pole(strike, dip, 1)\n",
    "trd, plg = np.radians([0, 0]) # vector to rotate points to N\n",
    "\n",
    "# looks correct\n",
    "print(Rotate(axis_trd, axis_plg, np.radians(179), trd, plg, 'a'))\n",
    "\n",
    "# this one is completely wrong\n",
    "print(Rotate(axis_trd, axis_plg, np.radians(180), trd, plg, 'a'))\n",
    "\n",
    "# The following snippet shows why rotation function behaves badly\n",
    "# We construct 180 deg rotation matrix then apply it to N vector [1, 0, 0]\n",
    "# We expect to get [-1, 0, 0] but calculations are imprecise and we get something different\n",
    "rot = np.radians(180)\n",
    "cn, ce, cd = SphToCart(axis_trd, axis_plg, 0)\n",
    "\n",
    "# Calculate the transformation matrix a for the rotation\n",
    "# Eq. 5.17\n",
    "x = 1.0 - np.cos(rot)\n",
    "sin_rot = np.sin(rot)\n",
    "cos_rot = np.cos(rot)\n",
    "R_180 = np.array([\n",
    "    [ cos_rot + cn*cn*x, -cd*sin_rot + cn*ce*x, ce*sin_rot + cn*cd*x ],\n",
    "    [ cd*sin_rot + ce*cn*x, cos_rot + ce*ce*x, -cn*sin_rot + ce*cd*x ],\n",
    "    [ -ce*sin_rot + cd*cn*x, cn*sin_rot + cd*ce*x, cos_rot + cd*cd*x ]\n",
    "])\n",
    "\n",
    "print(np.dot(R_180, np.array([1, 0, 0]))) "
   ]
  },
  {
   "cell_type": "code",
   "execution_count": null,
   "metadata": {},
   "outputs": [],
   "source": []
  }
 ],
 "metadata": {
  "kernelspec": {
   "display_name": "Python 3",
   "language": "python",
   "name": "python3"
  },
  "language_info": {
   "codemirror_mode": {
    "name": "ipython",
    "version": 3
   },
   "file_extension": ".py",
   "mimetype": "text/x-python",
   "name": "python",
   "nbconvert_exporter": "python",
   "pygments_lexer": "ipython3",
   "version": "3.6.5"
  }
 },
 "nbformat": 4,
 "nbformat_minor": 2
}
