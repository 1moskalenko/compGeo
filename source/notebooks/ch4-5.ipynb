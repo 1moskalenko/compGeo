{
 "cells": [
  {
   "cell_type": "code",
   "execution_count": 4,
   "metadata": {},
   "outputs": [
    {
     "name": "stdout",
     "output_type": "stream",
     "text": [
      "Plane strike = 84.5, dip = 22.5\n"
     ]
    }
   ],
   "source": [
    "import numpy as np\n",
    "pi = np.pi\n",
    "from ThreePoint import ThreePoint as ThreePoint\n",
    "\n",
    "# ENU coordinates of the three points\n",
    "p1 = [509, 2041, 400]\n",
    "p2 = [1323, 2362, 500]\n",
    "p3 = [2003, 2913, 700]\n",
    "\n",
    "# Compute the orientation of the plane\n",
    "strike, dip = ThreePoint(p1,p2,p3)\n",
    "print('Plane strike = {:.1f}, dip = {:.1f}'.format(strike*180/pi,dip*180/pi))"
   ]
  }
 ],
 "metadata": {
  "kernelspec": {
   "display_name": "Python 3",
   "language": "python",
   "name": "python3"
  },
  "language_info": {
   "codemirror_mode": {
    "name": "ipython",
    "version": 3
   },
   "file_extension": ".py",
   "mimetype": "text/x-python",
   "name": "python",
   "nbconvert_exporter": "python",
   "pygments_lexer": "ipython3",
   "version": "3.7.4"
  }
 },
 "nbformat": 4,
 "nbformat_minor": 2
}
